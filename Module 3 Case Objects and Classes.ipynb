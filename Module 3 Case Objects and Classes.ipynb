{
 "cells": [
  {
   "cell_type": "markdown",
   "metadata": {},
   "source": [
    " <div class=\"alert alert-block alert-info\" style=\"margin-top: 20px\">\n",
    " <a href=\"http://cocl.us/SC0101ENNotebookadd\"><img src = \"https://ibm.box.com/shared/static/kr8cc5o4va552yrgo83j54mishtgzj2n.png\" width = 750, align = \"center\"></a>\n",
    "\n",
    "\n",
    "\n",
    "<h1 align=center><font size = 5>Product Link</font></h1> "
   ]
  },
  {
   "cell_type": "markdown",
   "metadata": {},
   "source": [
    "<a href=\"https://www.bigdatauniversity.com\"><img src = \"https://ibm.box.com/shared/static/ugcqz6ohbvff804xp84y4kqnvvk3bq1g.png\" width = 300, align = \"center\"></a>\n",
    "\n",
    "<h1 align=center><font size = 5>Scala 101</font></h1>"
   ]
  },
  {
   "cell_type": "markdown",
   "metadata": {
    "collapsed": true
   },
   "source": [
    "# Module 3 Case Objects and Classes"
   ]
  },
  {
   "cell_type": "markdown",
   "metadata": {},
   "source": [
    "# Table of content\n",
    "\n",
    "<div class=\"alert alert-block alert-info\" style=\"margin-top: 20px\">\n",
    "<li><a href=\"#ref1\">Companion Objects</a>\n",
    "<li><a href=\"#ref2\">Case Classes and Case Objects</a>\n",
    "<li><a href=\"#ref3\"> Apply and Unapply </a>\n",
    "<li><a href=\"#ref4\"> Synthetic Methods </a>\n",
    "<li><a href=\"#ref4\">  Immutability in Thread Safety </a>\n",
    "<p></p>\n",
    "Estimated Time Needed: <strong>30 min</strong>\n",
    "</div>\n",
    " "
   ]
  },
  {
   "cell_type": "markdown",
   "metadata": {
    "collapsed": true
   },
   "source": [
    "<a id=\"#ref1\"></a>\n",
    "\n",
    "## 3.1 Companion Objects"
   ]
  },
  {
   "cell_type": "markdown",
   "metadata": {},
   "source": [
    "### By the end of this section you should be able to:\n",
    "\n",
    "<ul>\n",
    "  <li>  leverage accessibility keywords </li>\n",
    "  <li>describe the role companion objects play in, Scala   </li>\n",
    "  <li>outline how to use companion objects </li>\n",
    "</ul>  \n"
   ]
  },
  {
   "cell_type": "markdown",
   "metadata": {},
   "source": [
    "### Public and Private fields "
   ]
  },
  {
   "cell_type": "markdown",
   "metadata": {},
   "source": [
    "We can use keywords to limit the visibility of class fields. Consider the class \"Hello\" and the class  \"Welcome \" the classes are identical but the field \"message\" in the class \"Hello\" is set to private:  "
   ]
  },
  {
   "cell_type": "code",
   "execution_count": 1,
   "metadata": {
    "collapsed": true
   },
   "outputs": [],
   "source": [
    "class  Hello { private val message: String=\"Hello!\" }"
   ]
  },
  {
   "cell_type": "code",
   "execution_count": 2,
   "metadata": {
    "collapsed": true
   },
   "outputs": [],
   "source": [
    "class Welcome{val message: String=\"Hello!\" }"
   ]
  },
  {
   "cell_type": "markdown",
   "metadata": {
    "collapsed": true
   },
   "source": [
    "If you construct an object of class hello:"
   ]
  },
  {
   "cell_type": "code",
   "execution_count": 3,
   "metadata": {
    "collapsed": true
   },
   "outputs": [],
   "source": [
    "val hello=new Hello()"
   ]
  },
  {
   "cell_type": "markdown",
   "metadata": {},
   "source": [
    "The field \"message\" is private, so you can not access it:"
   ]
  },
  {
   "cell_type": "code",
   "execution_count": 4,
   "metadata": {},
   "outputs": [
    {
     "data": {
      "text/plain": [
       "Name: Compile Error\n",
       "Message: <console>:29: error: value message in class Hello cannot be accessed in Hello\n",
       "       hello.message\n",
       "             ^\n",
       "StackTrace: "
      ]
     },
     "execution_count": 4,
     "metadata": {},
     "output_type": "execute_result"
    }
   ],
   "source": [
    "hello.message"
   ]
  },
  {
   "cell_type": "markdown",
   "metadata": {},
   "source": [
    " When we create a new instance  of class welcome, we have access to the field "
   ]
  },
  {
   "cell_type": "code",
   "execution_count": 121,
   "metadata": {},
   "outputs": [
    {
     "data": {
      "text/plain": [
       "Hello!"
      ]
     },
     "execution_count": 121,
     "metadata": {},
     "output_type": "execute_result"
    }
   ],
   "source": [
    "val welcome=new Welcome()\n",
    "welcome.message"
   ]
  },
  {
   "cell_type": "markdown",
   "metadata": {},
   "source": [
    " <div class=\"alert alert-danger alertdanger\" style=\"margin-top: 20px\">\n",
    "<h1> Question  3.1: </h1>\n",
    "<p> \n",
    "Create a class:\"BankAccount\", the parameters should be : Name, balance and  pin number.  They should be set as unmutable fields in the class constructor. For numerical values the default values should be zero and the pin number should be private.</b>\n",
    "</p>\n",
    "</div>"
   ]
  },
  {
   "cell_type": "markdown",
   "metadata": {},
   "source": [
    " <div align=\"right\">\n",
    "<a href=\"#q1\" class=\"btn btn-default\" data-toggle=\"collapse\">Click here for the solution</a>\n",
    "\n",
    "</div>\n",
    "<div id=\"q1\" class=\"collapse\">\n",
    "```\n",
    "class BankAccount(val Name:String, val balance:Float =0, private val PinNumber:Int=0  )\n",
    "```\n",
    "</div>"
   ]
  },
  {
   "cell_type": "code",
   "execution_count": 122,
   "metadata": {
    "collapsed": true
   },
   "outputs": [],
   "source": []
  },
  {
   "cell_type": "markdown",
   "metadata": {},
   "source": [
    " <div class=\"alert alert-danger alertdanger\" style=\"margin-top: 20px\">\n",
    "<h1> Question  3.2: </h1>\n",
    "<p> \n",
    "Create two objects John and Sara of class \"BankAccount\"  the fields should be set as follows:\n",
    "<p> \n",
    "<p> \n",
    "John\n",
    "</p> \n",
    "<p> \n",
    "Name: John Smith\n",
    "</p> \n",
    "\n",
    "<p> \n",
    "balance: $12500\n",
    "</p> \n",
    "<p> \n",
    "PinNumber:1224 \n",
    "</p> \n",
    "<p> \n",
    "Sara\n",
    "</p> \n",
    "<p> \n",
    "Name: Sara Ski\n",
    "</p> \n",
    "<p> \n",
    "balance:0\n",
    "</p> \n",
    "<p> \n",
    "PinNumber:2222\n",
    "</p> \n",
    "</p>\n",
    "</div>"
   ]
  },
  {
   "cell_type": "code",
   "execution_count": null,
   "metadata": {
    "collapsed": true
   },
   "outputs": [],
   "source": []
  },
  {
   "cell_type": "markdown",
   "metadata": {},
   "source": [
    " <div align=\"right\">\n",
    "<a href=\"#q2\" class=\"btn btn-default\" data-toggle=\"collapse\">Click here for the solution</a>\n",
    "\n",
    "</div>\n",
    "<div id=\"q2\" class=\"collapse\">\n",
    "\n",
    "<p>\n",
    "val John=new BankAccount(Name=\"John Smith\", balance=12500,PinNumber=1224 )\n",
    "</p>\n",
    "<p>\n",
    "val Sara=new BankAccount(Name=\"Sara Ski\",PinNumber=2222 )\n",
    "</p>\n",
    "\n",
    "</div>"
   ]
  },
  {
   "cell_type": "markdown",
   "metadata": {},
   "source": [
    "<div class=\"alert alert-danger alertdanger\" style=\"margin-top: 20px\">\n",
    "<h1> Question  3.3: </h1>\n",
    "<p> \n",
    "Acess the fields for the object John, what happens when you access the field \"PinNumber\".</b>\n",
    "</p>\n",
    "</div>"
   ]
  },
  {
   "cell_type": "code",
   "execution_count": null,
   "metadata": {
    "collapsed": true
   },
   "outputs": [],
   "source": []
  },
  {
   "cell_type": "markdown",
   "metadata": {},
   "source": [
    "  <div align=\"right\">\n",
    "<a href=\"#q3\" class=\"btn btn-default\" data-toggle=\"collapse\">Click here for the solution</a>\n",
    "\n",
    "</div>\n",
    "<div id=\"q3\" class=\"collapse\">\n",
    "```\n",
    "John.Name\n",
    "John.balance\n",
    "you get an error when you access the field \"PinNumber\"\n",
    "John.PinNumber\n",
    "\n",
    "\n",
    "```\n",
    "</div>"
   ]
  },
  {
   "cell_type": "markdown",
   "metadata": {},
   "source": [
    "## Companion Objects"
   ]
  },
  {
   "cell_type": "markdown",
   "metadata": {},
   "source": [
    " If a Singleton object and a class share the same name and are located in the same source file, they are called companions. A companion class can access fields and  methods inside of its companion object."
   ]
  },
  {
   "cell_type": "code",
   "execution_count": 123,
   "metadata": {
    "collapsed": true
   },
   "outputs": [],
   "source": [
    "object Hello{ val defaultMessage: String=\"Hi\" }\n",
    "class Hello(){\n",
    "    import Hello._\n",
    "\n",
    "\n",
    "    println(Hello.defaultMessage)}\n"
   ]
  },
  {
   "cell_type": "code",
   "execution_count": 124,
   "metadata": {},
   "outputs": [
    {
     "name": "stdout",
     "output_type": "stream",
     "text": [
      "Hi\n"
     ]
    },
    {
     "data": {
      "text/plain": [
       "Hello@345487bb"
      ]
     },
     "execution_count": 124,
     "metadata": {},
     "output_type": "execute_result"
    }
   ],
   "source": [
    "new Hello"
   ]
  },
  {
   "cell_type": "markdown",
   "metadata": {
    "collapsed": true
   },
   "source": [
    "<a id=\"ref2\"></a>\n",
    "## 3.2 Case Classes and Case Objects"
   ]
  },
  {
   "cell_type": "markdown",
   "metadata": {},
   "source": [
    "### By the end of this section you should be able:\n",
    "\n",
    "<ul>\n",
    "    <li>describe when to use case classes   </li>\n",
    "  <li> be able to describe when to you use case classes and cases objects instead of regular classes </li>\n",
    "\n",
    "\n",
    "</ul>  "
   ]
  },
  {
   "cell_type": "markdown",
   "metadata": {},
   "source": [
    " Case classes are a particular class that can be used to represent data. It is simpler to create a case class than a regular class.  In a case class,  the parameters are immutable fields by default."
   ]
  },
  {
   "cell_type": "markdown",
   "metadata": {},
   "source": [
    "We can create the case class time with the parameters \"hours\" and \"minutes\":"
   ]
  },
  {
   "cell_type": "code",
   "execution_count": 7,
   "metadata": {
    "collapsed": true
   },
   "outputs": [],
   "source": [
    "case class Time(hours: Int=0, minutes:Int=0)"
   ]
  },
  {
   "cell_type": "markdown",
   "metadata": {},
   "source": [
    "We can create a new instance of that class and assign it to a value:"
   ]
  },
  {
   "cell_type": "code",
   "execution_count": 8,
   "metadata": {
    "collapsed": true
   },
   "outputs": [],
   "source": [
    "val time1=Time(9,10)"
   ]
  },
  {
   "cell_type": "markdown",
   "metadata": {},
   "source": [
    "We can represent the instance or object \"time1\"  with a table,  the field names are in the right column, and the field values are located in the left column."
   ]
  },
  {
   "cell_type": "markdown",
   "metadata": {},
   "source": [
    " <img src= \"https://ibm.box.com/shared/static/efawhc7immzeuopfnaskio4pj9iogt8j.png\" width = 400></a>"
   ]
  },
  {
   "cell_type": "markdown",
   "metadata": {},
   "source": [
    "We can view the actual fields "
   ]
  },
  {
   "cell_type": "code",
   "execution_count": 9,
   "metadata": {},
   "outputs": [
    {
     "data": {
      "text/plain": [
       "9"
      ]
     },
     "execution_count": 9,
     "metadata": {},
     "output_type": "execute_result"
    }
   ],
   "source": [
    "time1.hours"
   ]
  },
  {
   "cell_type": "code",
   "execution_count": 10,
   "metadata": {},
   "outputs": [
    {
     "data": {
      "text/plain": [
       "10"
      ]
     },
     "execution_count": 10,
     "metadata": {},
     "output_type": "execute_result"
    }
   ],
   "source": [
    " time1.minutes"
   ]
  },
  {
   "cell_type": "markdown",
   "metadata": {},
   "source": [
    " If we display the object, we get the class type along with the values the fields are set to"
   ]
  },
  {
   "cell_type": "code",
   "execution_count": 11,
   "metadata": {},
   "outputs": [
    {
     "data": {
      "text/plain": [
       "Time(9,10)"
      ]
     },
     "execution_count": 11,
     "metadata": {},
     "output_type": "execute_result"
    }
   ],
   "source": [
    "time1"
   ]
  },
  {
   "cell_type": "markdown",
   "metadata": {},
   "source": [
    "We can create a second instance of \"Time\" called \"time2\",  we set the field values to be the same."
   ]
  },
  {
   "cell_type": "code",
   "execution_count": 12,
   "metadata": {
    "collapsed": true
   },
   "outputs": [],
   "source": [
    "val time2=Time(9,10)"
   ]
  },
  {
   "cell_type": "markdown",
   "metadata": {},
   "source": [
    "Similarly, we can visualize the object using a table "
   ]
  },
  {
   "cell_type": "markdown",
   "metadata": {},
   "source": [
    "<img src = \"https://ibm.box.com/shared/static/q3qlt4en8s8jk2tg1i7z6nhsxwbsjxvn.png\" width = 400>"
   ]
  },
  {
   "cell_type": "markdown",
   "metadata": {},
   "source": [
    " We can view the actual fields"
   ]
  },
  {
   "cell_type": "code",
   "execution_count": 13,
   "metadata": {},
   "outputs": [
    {
     "data": {
      "text/plain": [
       "9"
      ]
     },
     "execution_count": 13,
     "metadata": {},
     "output_type": "execute_result"
    }
   ],
   "source": [
    "time2.hours"
   ]
  },
  {
   "cell_type": "code",
   "execution_count": 14,
   "metadata": {},
   "outputs": [
    {
     "data": {
      "text/plain": [
       "10"
      ]
     },
     "execution_count": 14,
     "metadata": {},
     "output_type": "execute_result"
    }
   ],
   "source": [
    "time2.minutes"
   ]
  },
  {
   "cell_type": "markdown",
   "metadata": {},
   "source": [
    " <a id=\"ex1\"></a>we can also do equivalence checks seeing if two instances of the same class are the same. If the fields are the same, we get true."
   ]
  },
  {
   "cell_type": "code",
   "execution_count": 15,
   "metadata": {},
   "outputs": [
    {
     "data": {
      "text/plain": [
       "true"
      ]
     },
     "execution_count": 15,
     "metadata": {},
     "output_type": "execute_result"
    }
   ],
   "source": [
    "time1==time2"
   ]
  },
  {
   "cell_type": "markdown",
   "metadata": {},
   "source": [
    " The procedure is summarized in the figure below, where each table is compared.  As both fields are  the same we get true :"
   ]
  },
  {
   "cell_type": "markdown",
   "metadata": {},
   "source": [
    "<img src = \"https://ibm.box.com/shared/static/0mzmiud464w7vqxjuwn1smessqbgh4ud.png\" width = 1000>"
   ]
  },
  {
   "cell_type": "markdown",
   "metadata": {},
   "source": [
    "we can create a new instance without using the keyword:"
   ]
  },
  {
   "cell_type": "code",
   "execution_count": 16,
   "metadata": {
    "collapsed": true
   },
   "outputs": [],
   "source": [
    "val time3=Time(9,20)"
   ]
  },
  {
   "cell_type": "markdown",
   "metadata": {},
   "source": [
    "If we perform an equivalence check we get a false as the fields are different "
   ]
  },
  {
   "cell_type": "code",
   "execution_count": 17,
   "metadata": {},
   "outputs": [
    {
     "data": {
      "text/plain": [
       "false"
      ]
     },
     "execution_count": 17,
     "metadata": {},
     "output_type": "execute_result"
    }
   ],
   "source": [
    "time2==time3"
   ]
  },
  {
   "cell_type": "markdown",
   "metadata": {},
   "source": [
    "We can see that the field minutes in \"time3\" is set to 20 , hence the equivalence operation produces a false, as shown in the following figure: "
   ]
  },
  {
   "cell_type": "markdown",
   "metadata": {},
   "source": [
    "<img src = \"https://ibm.box.com/shared/static/ge6706g10yp62u28k6p7xjftoqfsjgzd.png\" width = 1000>"
   ]
  },
  {
   "cell_type": "markdown",
   "metadata": {},
   "source": [
    "You cannot  create a case class without parameters "
   ]
  },
  {
   "cell_type": "code",
   "execution_count": 18,
   "metadata": {},
   "outputs": [
    {
     "data": {
      "text/plain": [
       "Name: Compile Error\n",
       "Message: <console>:1: error: case classes without a parameter list are not allowed;\n",
       "use either case objects or case classes with an explicit `()' as a parameter list.\n",
       "case class Data\n",
       "               ^\n",
       "StackTrace: "
      ]
     },
     "execution_count": 18,
     "metadata": {},
     "output_type": "execute_result"
    }
   ],
   "source": [
    "case class Data"
   ]
  },
  {
   "cell_type": "markdown",
   "metadata": {},
   "source": [
    " but you can create a case object "
   ]
  },
  {
   "cell_type": "code",
   "execution_count": 19,
   "metadata": {
    "collapsed": true
   },
   "outputs": [],
   "source": [
    "case object Data"
   ]
  },
  {
   "cell_type": "markdown",
   "metadata": {},
   "source": [
    "There is no need to instantiate it "
   ]
  },
  {
   "cell_type": "code",
   "execution_count": 9,
   "metadata": {},
   "outputs": [
    {
     "data": {
      "text/plain": [
       "Data"
      ]
     },
     "execution_count": 9,
     "metadata": {},
     "output_type": "execute_result"
    }
   ],
   "source": [
    "Data"
   ]
  },
  {
   "cell_type": "markdown",
   "metadata": {},
   "source": [
    "<div class=\"alert alert-danger alertdanger\" style=\"margin-top: 20px\">\n",
    "<h1> Question  3.4: </h1>\n",
    "<p> \n",
    "Create a case class object Birthday that represents the birthdate of a person. With the integer fields in the following order: day, the month (from 1 to 12) and year.  .</b>\n",
    "</p>\n",
    "</div>"
   ]
  },
  {
   "cell_type": "code",
   "execution_count": null,
   "metadata": {
    "collapsed": true
   },
   "outputs": [],
   "source": []
  },
  {
   "cell_type": "markdown",
   "metadata": {},
   "source": [
    "  <div align=\"right\">\n",
    "<a href=\"#q34\" class=\"btn btn-default\" data-toggle=\"collapse\">Click here for the solution</a>\n",
    "\n",
    "</div>\n",
    "<div id=\"q34\" class=\"collapse\">\n",
    "```\n",
    "case class Birthday(day:Int,month:Int, year:Int ) \n",
    "\n",
    "\n",
    "```\n",
    "</div>"
   ]
  },
  {
   "cell_type": "markdown",
   "metadata": {},
   "source": [
    " <div class=\"alert alert-danger alertdanger\" style=\"margin-top: 20px\">\n",
    "<h1> Question  3.5: </h1>\n",
    "<p> \n",
    "Create an instance of the case class Birthday called Pat, born on 11 th of October (11 month) in 1991.</b>\n",
    "</p>\n",
    "</div>"
   ]
  },
  {
   "cell_type": "code",
   "execution_count": null,
   "metadata": {
    "collapsed": true
   },
   "outputs": [],
   "source": []
  },
  {
   "cell_type": "markdown",
   "metadata": {},
   "source": [
    "<div align=\"right\">\n",
    "<a href=\"#q35\" class=\"btn btn-default\" data-toggle=\"collapse\">Click here for the solution</a>\n",
    "\n",
    "</div>\n",
    "<div id=\"q35\" class=\"collapse\">\n",
    "```\n",
    "val Pat=Birthday(11,10,1991)\n",
    "\n",
    "\n",
    "```\n",
    "</div>"
   ]
  },
  {
   "cell_type": "markdown",
   "metadata": {},
   "source": [
    "<div class=\"alert alert-danger alertdanger\" style=\"margin-top: 20px\">\n",
    "<h1> Question  3.6: </h1>\n",
    "<p> \n",
    "Print out all the fields of the instance \"Pat\" along with the instance itself.</b>\n",
    "</p>\n",
    "</div>"
   ]
  },
  {
   "cell_type": "code",
   "execution_count": null,
   "metadata": {
    "collapsed": true
   },
   "outputs": [],
   "source": []
  },
  {
   "cell_type": "markdown",
   "metadata": {},
   "source": [
    " <div align=\"right\">\n",
    "<a href=\"#q36\" class=\"btn btn-default\" data-toggle=\"collapse\">Click here for the solution</a>\n",
    "\n",
    "</div>\n",
    "<div id=\"q36\" class=\"collapse\">\n",
    "```\n",
    "println(\"day\",Pat.day)\n",
    "println(\"mounth\",Pat.month)\n",
    "println(\"year\", Pat.year)\n",
    "println(\"instance of object:\",Pat)\n",
    "\n",
    "\n",
    "```\n",
    "</div>"
   ]
  },
  {
   "cell_type": "markdown",
   "metadata": {},
   "source": [
    "<div class=\"alert alert-danger alertdanger\" style=\"margin-top: 20px\">\n",
    "<h1> Question  3.7: </h1>\n",
    "<p> \n",
    "Create an instance of the case class Bob, set all the fields to the exact same value as Pat, but change the value of year to 1992.  Finally, perform an equivalence check. of Bob and Pat.</b>\n",
    "</p>\n",
    "</div>"
   ]
  },
  {
   "cell_type": "code",
   "execution_count": null,
   "metadata": {
    "collapsed": true
   },
   "outputs": [],
   "source": []
  },
  {
   "cell_type": "markdown",
   "metadata": {},
   "source": [
    "<div align=\"right\">\n",
    "<a href=\"#q37\" class=\"btn btn-default\" data-toggle=\"collapse\">Click here for the solution</a>\n",
    "\n",
    "</div>\n",
    "<div id=\"q37\" class=\"collapse\">\n",
    "```\n",
    "val Bob=Birthday(11,10,1992)\n",
    "Bob==Pat\n",
    "\n",
    "```\n",
    "</div>"
   ]
  },
  {
   "cell_type": "markdown",
   "metadata": {
    "collapsed": true
   },
   "source": [
    "<a id=\"ref3\"></a>\n",
    "## 3.4 Apply and Unapply "
   ]
  },
  {
   "cell_type": "markdown",
   "metadata": {},
   "source": [
    "### By the end of this section you should be able to:\n",
    "\n",
    "<ul>\n",
    "\n",
    "  <li>Illustrate the difference between a type and a term   </li>\n",
    "  <li>Describe how the apply method works in both objects and classes </li>\n",
    "<li>Outline how unapply works </li>\n",
    "</ul>  \n"
   ]
  },
  {
   "cell_type": "markdown",
   "metadata": {},
   "source": [
    "### Type\n",
    "<li>A type is a description of a concept in an application. For example, a class is a type.</li>\n"
   ]
  },
  {
   "cell_type": "markdown",
   "metadata": {},
   "source": [
    "### Term\n",
    "<ul>\n",
    "<li>A term is a concrete representation of a type </li>\n",
    "<li>Any class instance, including an object, is a term </li>\n",
    "<li>Methods  are also a term </li>\n",
    "</ul>  \n"
   ]
  },
  {
   "cell_type": "markdown",
   "metadata": {},
   "source": [
    "### Apply "
   ]
  },
  {
   "cell_type": "markdown",
   "metadata": {},
   "source": [
    " When you create a case class you are actually creating a companion object  to create the instance of that class "
   ]
  },
  {
   "cell_type": "code",
   "execution_count": 10,
   "metadata": {
    "collapsed": true
   },
   "outputs": [],
   "source": [
    "case class Time(hours: Int=0, minutes:Int=0)"
   ]
  },
  {
   "cell_type": "markdown",
   "metadata": {},
   "source": [
    "we can verify this by typing the name of the class we get the object: "
   ]
  },
  {
   "cell_type": "code",
   "execution_count": 11,
   "metadata": {},
   "outputs": [
    {
     "data": {
      "text/plain": [
       "Time"
      ]
     },
     "execution_count": 11,
     "metadata": {},
     "output_type": "execute_result"
    }
   ],
   "source": [
    "Time"
   ]
  },
  {
   "cell_type": "markdown",
   "metadata": {},
   "source": [
    " The object is a factory for the instances of the case class.The fields of the method are set using the special method apply. You do not have to call the method directly, the next two lines generate instances with the same field values "
   ]
  },
  {
   "cell_type": "code",
   "execution_count": 12,
   "metadata": {},
   "outputs": [
    {
     "data": {
      "text/plain": [
       "Time(9,0)"
      ]
     },
     "execution_count": 12,
     "metadata": {},
     "output_type": "execute_result"
    }
   ],
   "source": [
    "Time.apply(9,0)"
   ]
  },
  {
   "cell_type": "code",
   "execution_count": 13,
   "metadata": {},
   "outputs": [
    {
     "data": {
      "text/plain": [
       "Time(9,0)"
      ]
     },
     "execution_count": 13,
     "metadata": {},
     "output_type": "execute_result"
    }
   ],
   "source": [
    "Time(9,0)"
   ]
  },
  {
   "cell_type": "markdown",
   "metadata": {},
   "source": [
    " We can see an example of the apply method by creating the object \"Reverse\". The method apply takes the string \"s\" and reverses  it: "
   ]
  },
  {
   "cell_type": "code",
   "execution_count": 15,
   "metadata": {
    "collapsed": true
   },
   "outputs": [],
   "source": [
    "object Reverse{ def apply(s: String):String=s.reverse}"
   ]
  },
  {
   "cell_type": "markdown",
   "metadata": {},
   "source": [
    "We can call the apply method explicitly "
   ]
  },
  {
   "cell_type": "code",
   "execution_count": 17,
   "metadata": {},
   "outputs": [
    {
     "data": {
      "text/plain": [
       "olleh"
      ]
     },
     "execution_count": 17,
     "metadata": {},
     "output_type": "execute_result"
    }
   ],
   "source": [
    "Reverse.apply(\"hello\")"
   ]
  },
  {
   "cell_type": "markdown",
   "metadata": {},
   "source": [
    "or just using parentheses "
   ]
  },
  {
   "cell_type": "code",
   "execution_count": 18,
   "metadata": {},
   "outputs": [
    {
     "data": {
      "text/plain": [
       "olleh"
      ]
     },
     "execution_count": 18,
     "metadata": {},
     "output_type": "execute_result"
    }
   ],
   "source": [
    "Reverse(\"hello\")"
   ]
  },
  {
   "cell_type": "markdown",
   "metadata": {},
   "source": [
    " Something similar happens when you create an array   (we will cover arrays in the next section).  We can use the apply method or merely use the parentheses as shown in the following example:"
   ]
  },
  {
   "cell_type": "code",
   "execution_count": 148,
   "metadata": {},
   "outputs": [
    {
     "name": "stdout",
     "output_type": "stream",
     "text": [
      "(A(0):,1)\n",
      "(A(1):,2)\n",
      "(A(2):,3)\n"
     ]
    }
   ],
   "source": [
    "val A=Array.apply(1,2,3)\n",
    "println(\"A(0):\",A(0))\n",
    "println(\"A(1):\",A(1))\n",
    "println(\"A(2):\",A(2))"
   ]
  },
  {
   "cell_type": "code",
   "execution_count": 149,
   "metadata": {},
   "outputs": [
    {
     "name": "stdout",
     "output_type": "stream",
     "text": [
      "(B(0):,1)\n",
      "(B(1):,2)\n",
      "(B(2):,3)\n"
     ]
    }
   ],
   "source": [
    "val B=Array(1,2,3)\n",
    "println(\"B(0):\",B(0))\n",
    "println(\"B(1):\",B(1))\n",
    "println(\"B(2):\",B(2))"
   ]
  },
  {
   "cell_type": "markdown",
   "metadata": {},
   "source": [
    "The following will be used for the next question. The class \"OffTime\" takes the first name of the employee, the employee's lunch time and break time as fields."
   ]
  },
  {
   "cell_type": "code",
   "execution_count": 20,
   "metadata": {
    "collapsed": true
   },
   "outputs": [],
   "source": [
    "class OffTime(val Name:String, val LunchTime : String , val BreakTime:  String )"
   ]
  },
  {
   "cell_type": "markdown",
   "metadata": {},
   "source": [
    " The following companion object creates an instance of the class "
   ]
  },
  {
   "cell_type": "code",
   "execution_count": 21,
   "metadata": {
    "collapsed": true
   },
   "outputs": [],
   "source": [
    "object OffTime {\n",
    "    \n",
    "    def apply(Name:String, LunchTime : String, BreakTime: String)={\n",
    "        \n",
    "        new OffTime(Name, LunchTime, BreakTime)\n",
    "        \n",
    "    }\n",
    "    \n",
    "}"
   ]
  },
  {
   "cell_type": "markdown",
   "metadata": {},
   "source": [
    "<div class=\"alert alert-danger alertdanger\" style=\"margin-top: 20px\">\n",
    "<h1> Question  3.8: </h1>\n",
    "<p> Use the companion object 'OffTime' to create an instance of the class called 'Employ1' and print the object:\n",
    "<p>\n",
    "Name=\"John\"\n",
    "</p>\n",
    "<p>\n",
    "LunchTime=\"12:30 pm\"\n",
    "</p>\n",
    "<p>\n",
    "BreakTime=\"3:15 pm\"\n",
    "</p>\n",
    "</b>\n",
    "</p>\n",
    "</div>"
   ]
  },
  {
   "cell_type": "code",
   "execution_count": 29,
   "metadata": {},
   "outputs": [
    {
     "data": {
      "text/plain": [
       "OffTime@3dea9477"
      ]
     },
     "execution_count": 29,
     "metadata": {},
     "output_type": "execute_result"
    }
   ],
   "source": [
    "val Employ1=OffTime(\"John \",\"12:30 pm\",\"3:15 pm\")\n",
    " Employ1"
   ]
  },
  {
   "cell_type": "markdown",
   "metadata": {},
   "source": [
    "<div align=\"right\">\n",
    "<a href=\"#q38\" class=\"btn btn-default\" data-toggle=\"collapse\">Click here for the solution</a>\n",
    "\n",
    "</div>\n",
    "<div id=\"q38\" class=\"collapse\">\n",
    "<p>\n",
    "val Employ1=OffTime(\"John \",\"12:30 pm\",\"3:15 pm\")\n",
    "\n",
    "</div>"
   ]
  },
  {
   "cell_type": "markdown",
   "metadata": {},
   "source": [
    "<div class=\"alert alert-danger alertdanger\" style=\"margin-top: 20px\">\n",
    "<h1> Question  3.9: </h1>\n",
    "<p>  Print out the filds of the instance:\n",
    "</p>\n",
    "\n",
    "</div>"
   ]
  },
  {
   "cell_type": "code",
   "execution_count": 33,
   "metadata": {},
   "outputs": [
    {
     "name": "stdout",
     "output_type": "stream",
     "text": [
      "Name: John \n",
      "Lunch Time: 12:30 pm\n",
      "Break Time: 3:15 pm\n"
     ]
    }
   ],
   "source": [
    "\n"
   ]
  },
  {
   "cell_type": "markdown",
   "metadata": {},
   "source": [
    "<div align=\"right\">\n",
    "<a href=\"#q39\" class=\"btn btn-default\" data-toggle=\"collapse\">Click here for the solution</a>\n",
    "\n",
    "</div>\n",
    "<div id=\"q39\" class=\"collapse\">\n",
    "\n",
    "<p>\n",
    "println(\"Name: \"+Employ1.Name)\n",
    "</p>\n",
    "<p>\n",
    "println(\"Lunch Time: \"+Employ1.LunchTime)\n",
    "</p>\n",
    "<p>\n",
    "println(\"Break Time: \"+Employ1.BreakTime)\n",
    "</p>\n",
    "</div>"
   ]
  },
  {
   "cell_type": "markdown",
   "metadata": {},
   "source": [
    " <div class=\"alert alert-danger alertdanger\" style=\"margin-top: 20px\">\n",
    "<h1> Question  3.10: </h1>\n",
    "<p>  Create a case class \"OffTime1\" with the identical fields \"OffTime\" and create an instance called \"Employ2\" with the exact same fields as 'Employ1'and print out the instance \n",
    "</p>\n",
    "\n",
    "</div>"
   ]
  },
  {
   "cell_type": "code",
   "execution_count": null,
   "metadata": {
    "collapsed": true
   },
   "outputs": [],
   "source": []
  },
  {
   "cell_type": "markdown",
   "metadata": {
    "collapsed": true
   },
   "source": [
    "<div align=\"right\">\n",
    "<a href=\"#q310\" class=\"btn btn-default\" data-toggle=\"collapse\">Click here for the solution</a>\n",
    "\n",
    "</div>\n",
    "<div id=\"q310\" class=\"collapse\">\n",
    "\n",
    "<p>\n",
    "case class OfftimeCase(Name:String, LuchTime : String, BreakTime: String)\n",
    "</p>\n",
    "val Employ2=OfftimeCase(\"John \",\"12:30 pm\",\"3:15 pm\")\n",
    "<p>\n",
    "print(Employ2)\n",
    "</p>\n",
    "</div>"
   ]
  },
  {
   "cell_type": "markdown",
   "metadata": {},
   "source": [
    " <div class=\"alert alert-danger alertdanger\" style=\"margin-top: 20px\">\n",
    "<h1> Question  3.11: </h1>\n",
    "<p>  Print out the fields  of the instance \"Employ2\":\n",
    "</p>\n",
    "\n",
    "</div>"
   ]
  },
  {
   "cell_type": "code",
   "execution_count": null,
   "metadata": {
    "collapsed": true
   },
   "outputs": [],
   "source": []
  },
  {
   "cell_type": "markdown",
   "metadata": {},
   "source": [
    " <div align=\"right\">\n",
    "<a href=\"#q311\" class=\"btn btn-default\" data-toggle=\"collapse\">Click here for the solution</a>\n",
    "\n",
    "</div>\n",
    "<div id=\"q311\" class=\"collapse\">\n",
    "\n",
    "<p>\n",
    "println(\"Name: \"+Employ2.Name)\n",
    "</p>\n",
    "<p>\n",
    "println(\"Luch Time: \"+Employ2.LuchTime)\n",
    "</p>\n",
    "<p>\n",
    "println(\"Break Time: \"+Employ2.BreakTime)\n",
    "</p>\n",
    "</div>"
   ]
  },
  {
   "cell_type": "markdown",
   "metadata": {
    "collapsed": true
   },
   "source": [
    "### Unapply "
   ]
  },
  {
   "cell_type": "markdown",
   "metadata": {},
   "source": [
    "The method Unapply constructs the instance of the case class. For example, if I create an instance of \"Time \" with hours set to 8 and minutes set to 30:"
   ]
  },
  {
   "cell_type": "code",
   "execution_count": 154,
   "metadata": {
    "collapsed": true
   },
   "outputs": [],
   "source": [
    "val time1=Time(8,30)\n"
   ]
  },
  {
   "cell_type": "markdown",
   "metadata": {},
   "source": [
    "I can use the unapply method from the companion object to get the values of the field in this case hours"
   ]
  },
  {
   "cell_type": "code",
   "execution_count": 155,
   "metadata": {},
   "outputs": [
    {
     "data": {
      "text/plain": [
       "Some((8,30))"
      ]
     },
     "execution_count": 155,
     "metadata": {},
     "output_type": "execute_result"
    }
   ],
   "source": [
    "Time.unapply(time1)"
   ]
  },
  {
   "cell_type": "markdown",
   "metadata": {},
   "source": [
    " The procedure is summarized in the following figure, the instance or object time is represented by a table. Each of the different fields is represented with different rows in the table using colors to help distinguish them. After unapply is used, the field values are mapped to a tuple."
   ]
  },
  {
   "cell_type": "markdown",
   "metadata": {},
   "source": [
    " <img src = \"https://ibm.box.com/shared/static/x4mxyvlem4sa7k8h17902w941bcj5dm7.png\" width = 1200>\n",
    "\n"
   ]
  },
  {
   "cell_type": "markdown",
   "metadata": {},
   "source": [
    "<a id=\"ref4\"></a>\n",
    "## Synthetic Methods"
   ]
  },
  {
   "cell_type": "markdown",
   "metadata": {},
   "source": [
    "#### By the end of this section you should be able:\n",
    "\n",
    "<ul>\n",
    "\n",
    "  <li> describe how the Scala compiler generates functionality </li>\n",
    "  <li>explain the methods: equals, hashCode, toString and copy </li>\n",
    "<li> outline how you would use immutable case classes what state is changing  </li>\n",
    "</ul>  \n"
   ]
  },
  {
   "cell_type": "markdown",
   "metadata": {},
   "source": [
    "Synthetic methods are prebuilt methods that are included when you build a case class, similar to the apply method."
   ]
  },
  {
   "cell_type": "markdown",
   "metadata": {},
   "source": [
    "#### equals()"
   ]
  },
  {
   "cell_type": "markdown",
   "metadata": {},
   "source": [
    "for \"equals()\" check out the <a href=\"#ex1\"> previous example </a>"
   ]
  },
  {
   "cell_type": "markdown",
   "metadata": {},
   "source": [
    "The method \"hashCode()\" maps instances with different fields to a number,consider the case class time."
   ]
  },
  {
   "cell_type": "code",
   "execution_count": 54,
   "metadata": {
    "collapsed": true
   },
   "outputs": [],
   "source": [
    "case class Time(hours: Int=0, minutes:Int=0)"
   ]
  },
  {
   "cell_type": "markdown",
   "metadata": {},
   "source": [
    "We can create an instance of the case class with the field hours set to 8 and the field minutes set to 30."
   ]
  },
  {
   "cell_type": "code",
   "execution_count": 39,
   "metadata": {
    "scrolled": true
   },
   "outputs": [
    {
     "data": {
      "text/plain": [
       "Time(8,30)"
      ]
     },
     "execution_count": 39,
     "metadata": {},
     "output_type": "execute_result"
    }
   ],
   "source": [
    "val time=Time(8,30)\n",
    "time"
   ]
  },
  {
   "cell_type": "markdown",
   "metadata": {},
   "source": [
    " When we create the instance of the case class the compiler generates the method \".hashCode()\" . We can use the method to generate a value that we can use later in a \"HashMap\" or \"HashSet\"."
   ]
  },
  {
   "cell_type": "code",
   "execution_count": 40,
   "metadata": {},
   "outputs": [
    {
     "data": {
      "text/plain": [
       "448866544"
      ]
     },
     "execution_count": 40,
     "metadata": {},
     "output_type": "execute_result"
    }
   ],
   "source": [
    "time.hashCode()"
   ]
  },
  {
   "cell_type": "markdown",
   "metadata": {},
   "source": [
    " The method maps the instance to the number '448866544'"
   ]
  },
  {
   "cell_type": "markdown",
   "metadata": {},
   "source": [
    " If we create a different instance and apply the method  \"hashCode()\" we get a different value."
   ]
  },
  {
   "cell_type": "code",
   "execution_count": 53,
   "metadata": {},
   "outputs": [
    {
     "data": {
      "text/plain": [
       "false"
      ]
     },
     "execution_count": 53,
     "metadata": {},
     "output_type": "execute_result"
    }
   ],
   "source": [
    " Time(8,40).hashCode()==Time(8,50).hashCode()\n"
   ]
  },
  {
   "cell_type": "code",
   "execution_count": 41,
   "metadata": {},
   "outputs": [
    {
     "data": {
      "text/plain": [
       "-1116640459"
      ]
     },
     "execution_count": 41,
     "metadata": {},
     "output_type": "execute_result"
    }
   ],
   "source": [
    "val time1=Time(8,40)\n",
    "time1.hashCode()"
   ]
  },
  {
   "cell_type": "markdown",
   "metadata": {},
   "source": [
    "The following image summarizes the result, after applying the method \".hashCode()\" to each instance we get a different value."
   ]
  },
  {
   "cell_type": "markdown",
   "metadata": {},
   "source": [
    " <img src = \"https://ibm.box.com/shared/static/yfxums8j66verynqzecaesj2n7zafq1m.png\" width = 1200>\n",
    "\n"
   ]
  },
  {
   "cell_type": "markdown",
   "metadata": {},
   "source": [
    " If we create two instances with the same fields, then apply the method \".hashCode()\" the same value is generated: "
   ]
  },
  {
   "cell_type": "code",
   "execution_count": 177,
   "metadata": {},
   "outputs": [
    {
     "data": {
      "text/plain": [
       "-1116640459"
      ]
     },
     "execution_count": 177,
     "metadata": {},
     "output_type": "execute_result"
    }
   ],
   "source": [
    "val time3=time.copy(8,40)\n",
    "time3.hashCode()"
   ]
  },
  {
   "cell_type": "code",
   "execution_count": 178,
   "metadata": {},
   "outputs": [
    {
     "data": {
      "text/plain": [
       "-1116640459"
      ]
     },
     "execution_count": 178,
     "metadata": {},
     "output_type": "execute_result"
    }
   ],
   "source": [
    "val time4=Time(8,40)\n",
    "time1.hashCode()"
   ]
  },
  {
   "cell_type": "markdown",
   "metadata": {},
   "source": [
    " The result is summarised in the following figure:"
   ]
  },
  {
   "cell_type": "markdown",
   "metadata": {},
   "source": [
    "<img src = \"https://ibm.box.com/shared/static/puo74z2fshvxltt12sxcommwrl4g46y0.png\" width = 1200>"
   ]
  },
  {
   "cell_type": "markdown",
   "metadata": {},
   "source": [
    "### toString()"
   ]
  },
  {
   "cell_type": "markdown",
   "metadata": {},
   "source": [
    "When you generate a case class the method \"toString()\" is generated. Consider the class Dog with the field name and breed, when we create a new instance of the class and print out the name we see the virtual memory space."
   ]
  },
  {
   "cell_type": "code",
   "execution_count": 42,
   "metadata": {},
   "outputs": [
    {
     "name": "stdout",
     "output_type": "stream",
     "text": [
      "$line112.$read$$iw$$iw$Dog@3064156b"
     ]
    }
   ],
   "source": [
    "class Dog(name:String,Breed:String )\n",
    "print(new Dog(\"Max\",\"German Shepard\"))"
   ]
  },
  {
   "cell_type": "markdown",
   "metadata": {
    "collapsed": true
   },
   "source": [
    "When you create a case class the method \"toString()\" is generated, when you print out an instance of the case class the name of the case class and the fields are displayed. Consider the case class K9 with the field name and Breed when you print the instance of the object you get the name of the class as well as the field's value."
   ]
  },
  {
   "cell_type": "code",
   "execution_count": 43,
   "metadata": {},
   "outputs": [
    {
     "name": "stdout",
     "output_type": "stream",
     "text": [
      "K9(Max,German Shepard)"
     ]
    }
   ],
   "source": [
    "case class K9(name:String,Breed:String)\n",
    "print(K9(\"Max\",\"German Shepard\"))"
   ]
  },
  {
   "cell_type": "markdown",
   "metadata": {},
   "source": [
    "### copy()"
   ]
  },
  {
   "cell_type": "markdown",
   "metadata": {},
   "source": [
    "The method copy allows you to copy an instance of a case class; it also gives you the ability to change only a few fields. Consider the instance of the case class K9 called dog1:\n"
   ]
  },
  {
   "cell_type": "code",
   "execution_count": 44,
   "metadata": {},
   "outputs": [
    {
     "data": {
      "text/plain": [
       "K9(Max,German Shepard)"
      ]
     },
     "execution_count": 44,
     "metadata": {},
     "output_type": "execute_result"
    }
   ],
   "source": [
    "val dog1=K9(\"Max\",\"German Shepard\")\n",
    "dog1"
   ]
  },
  {
   "cell_type": "markdown",
   "metadata": {},
   "source": [
    "We can create a new instance and call it dog2:"
   ]
  },
  {
   "cell_type": "code",
   "execution_count": 45,
   "metadata": {},
   "outputs": [
    {
     "data": {
      "text/plain": [
       "K9(Max,German Shepard)"
      ]
     },
     "execution_count": 45,
     "metadata": {},
     "output_type": "execute_result"
    }
   ],
   "source": [
    "val dog2=dog1.copy()\n",
    "dog2\n"
   ]
  },
  {
   "cell_type": "markdown",
   "metadata": {},
   "source": [
    "we can check if the two instances are equal "
   ]
  },
  {
   "cell_type": "code",
   "execution_count": 46,
   "metadata": {},
   "outputs": [
    {
     "data": {
      "text/plain": [
       "true"
      ]
     },
     "execution_count": 46,
     "metadata": {},
     "output_type": "execute_result"
    }
   ],
   "source": [
    "dog1==dog2"
   ]
  },
  {
   "cell_type": "markdown",
   "metadata": {},
   "source": [
    "we can copy the instance to dog3 and change the field name to Bob "
   ]
  },
  {
   "cell_type": "code",
   "execution_count": 47,
   "metadata": {},
   "outputs": [
    {
     "data": {
      "text/plain": [
       "K9(Bob,German Shepard)"
      ]
     },
     "execution_count": 47,
     "metadata": {},
     "output_type": "execute_result"
    }
   ],
   "source": [
    "val dog3=dog1.copy(name=\"Bob\")\n",
    "dog3"
   ]
  },
  {
   "cell_type": "markdown",
   "metadata": {},
   "source": [
    "we can verify  the instances are not equal "
   ]
  },
  {
   "cell_type": "code",
   "execution_count": 39,
   "metadata": {},
   "outputs": [
    {
     "data": {
      "text/plain": [
       "false"
      ]
     },
     "execution_count": 39,
     "metadata": {},
     "output_type": "execute_result"
    }
   ],
   "source": [
    "dog1==dog3"
   ]
  },
  {
   "cell_type": "markdown",
   "metadata": {
    "collapsed": true
   },
   "source": [
    " <div class=\"alert alert-danger alertdanger\" style=\"margin-top: 20px\">\n",
    "<h1> Question  3.12: </h1>\n",
    "<p>  Create an instance of the case class K9,  called it \"D1\" and give it the name \"Killer\" and the breed \"Chihuahua\".  Use the copy method to create a new instance changing the name to Orange, call this new instance \"D2\":\n",
    "</p>\n",
    "\n",
    "</div>"
   ]
  },
  {
   "cell_type": "code",
   "execution_count": null,
   "metadata": {
    "collapsed": true
   },
   "outputs": [],
   "source": []
  },
  {
   "cell_type": "markdown",
   "metadata": {},
   "source": [
    "<a href=\"#q312\" class=\"btn btn-default\" data-toggle=\"collapse\">Click here for the solution</a>\n",
    "\n",
    "</div>\n",
    "<div id=\"q312\" class=\"collapse\">\n",
    "\n",
    "<p>\n",
    "val D1=K9(\"Killer\" ,\"Chihuahua\" )\n",
    "</p>\n",
    "println(D1)\n",
    "<p>\n",
    "val D2=D1.copy(name=\"Orange\")\n",
    "</p>\n",
    "println(D2)\n",
    "</p>\n",
    "</div>"
   ]
  },
  {
   "cell_type": "markdown",
   "metadata": {},
   "source": [
    "<div class=\"alert alert-danger alertdanger\" style=\"margin-top: 20px\">\n",
    "<h1> Question  3.13: </h1>\n",
    "<p>Will you get the same value if you apply the method \"hashCode()\" ?:\n",
    "</p>\n",
    "\n",
    "</div>"
   ]
  },
  {
   "cell_type": "code",
   "execution_count": 49,
   "metadata": {},
   "outputs": [
    {
     "name": "stdout",
     "output_type": "stream",
     "text": [
      "(The hash code of D1:,-818883252)\n",
      "(The hash code of D1:,-1527973445)\n"
     ]
    }
   ],
   "source": []
  },
  {
   "cell_type": "markdown",
   "metadata": {},
   "source": [
    "\n",
    "<a href=\"#q313\" class=\"btn btn-default\" data-toggle=\"collapse\">Click here for the solution</a>\n",
    "\n",
    "</div>\n",
    "<div id=\"q313\" class=\"collapse\">\n",
    "\n",
    "\n",
    "\n",
    "<p>\n",
    "println(\"The hash code of D1:\",D1.hashCode())\n",
    "</p>\n",
    "<p>\n",
    "println(\"The hash code of D1:\",D2.hashCode())\n",
    "</p>\n",
    "</div>"
   ]
  },
  {
   "cell_type": "markdown",
   "metadata": {},
   "source": [
    "<a id=\"ref5\"></a>\n",
    "# Immutability in thread safety "
   ]
  },
  {
   "cell_type": "markdown",
   "metadata": {
    "collapsed": true
   },
   "source": [
    "### By the end of this section you should be able to:\n",
    "\n",
    "<ul>\n",
    "\n",
    "  <li>  understand basic thread safety in the JVM  </li>\n",
    "  <li>described the importance of immutability in multithreaded applications  </li>\n",
    "<li> online how to use snapshots to preserve thread safety with case classes  </li>\n",
    "</ul>  \n"
   ]
  },
  {
   "cell_type": "markdown",
   "metadata": {},
   "source": [
    "consider the case class customer "
   ]
  },
  {
   "cell_type": "code",
   "execution_count": 6,
   "metadata": {
    "collapsed": true
   },
   "outputs": [],
   "source": [
    "case class Customer(fistName: String,lastName:String)"
   ]
  },
  {
   "cell_type": "markdown",
   "metadata": {},
   "source": [
    "we can create a new instance of the class and assign it to the \"val\" person1:"
   ]
  },
  {
   "cell_type": "code",
   "execution_count": 11,
   "metadata": {},
   "outputs": [
    {
     "data": {
      "text/plain": [
       "Customer(Joie,JoJo)"
      ]
     },
     "execution_count": 11,
     "metadata": {},
     "output_type": "execute_result"
    }
   ],
   "source": [
    "val person1 =new Customer(\"Joie\",\"JoJo\")\n",
    "person1"
   ]
  },
  {
   "cell_type": "markdown",
   "metadata": {},
   "source": [
    "we can not assign the value to a new instance of customer as val's are immutable "
   ]
  },
  {
   "cell_type": "code",
   "execution_count": 26,
   "metadata": {},
   "outputs": [
    {
     "data": {
      "text/plain": [
       "Name: Compile Error\n",
       "Message: <console>:29: error: reassignment to val\n",
       "       person1 =new Customer(\"Joie\",\"JoJo\")\n",
       "               ^\n",
       "StackTrace: "
      ]
     },
     "execution_count": 26,
     "metadata": {},
     "output_type": "execute_result"
    }
   ],
   "source": [
    "person1 =new Customer(\"Joie\",\"JoJo\")"
   ]
  },
  {
   "cell_type": "markdown",
   "metadata": {},
   "source": [
    "we can access the fields "
   ]
  },
  {
   "cell_type": "code",
   "execution_count": 27,
   "metadata": {},
   "outputs": [
    {
     "data": {
      "text/plain": [
       "Joie"
      ]
     },
     "execution_count": 27,
     "metadata": {},
     "output_type": "execute_result"
    }
   ],
   "source": [
    "person1.fistName"
   ]
  },
  {
   "cell_type": "markdown",
   "metadata": {},
   "source": [
    " but as the  are val's we can not change them "
   ]
  },
  {
   "cell_type": "code",
   "execution_count": 29,
   "metadata": {},
   "outputs": [
    {
     "data": {
      "text/plain": [
       "Name: Compile Error\n",
       "Message: <console>:29: error: reassignment to val\n",
       "       person1.fistName=\"john\"\n",
       "                       ^\n",
       "StackTrace: "
      ]
     },
     "execution_count": 29,
     "metadata": {},
     "output_type": "execute_result"
    }
   ],
   "source": [
    "person1.fistName=\"john\""
   ]
  },
  {
   "cell_type": "markdown",
   "metadata": {},
   "source": [
    "If we assign an instance of a case class to a var we must be more careful. To ensure that any threads  know about any changes we use the \"@volatile\"  annotation:"
   ]
  },
  {
   "cell_type": "code",
   "execution_count": 30,
   "metadata": {},
   "outputs": [
    {
     "data": {
      "text/plain": [
       "Customer(Martin,Odersky)"
      ]
     },
     "execution_count": 30,
     "metadata": {},
     "output_type": "execute_result"
    }
   ],
   "source": [
    "@volatile var Person2=Customer(\"Martin\",\"Odersky\")\n",
    "Person2"
   ]
  },
  {
   "cell_type": "markdown",
   "metadata": {},
   "source": [
    "Therefor If we use the method copy and change the field \"lastname\" other threads will see this change."
   ]
  },
  {
   "cell_type": "code",
   "execution_count": 32,
   "metadata": {},
   "outputs": [
    {
     "data": {
      "text/plain": [
       "Customer(Doe,Doe)"
      ]
     },
     "execution_count": 32,
     "metadata": {},
     "output_type": "execute_result"
    }
   ],
   "source": [
    "Person2=Person2.copy(lastName=\"Doe\")\n",
    "Person2"
   ]
  },
  {
   "cell_type": "markdown",
   "metadata": {},
   "source": [
    "<hr>\n",
    "Copyright &copy; 2017 [cognitiveclass.ai](cognitiveclass.ai?utm_source=bducopyrightlink&utm_medium=dswb&utm_campaign=bdu). This notebook and its source code are released under the terms of the [MIT License](https://bigdatauniversity.com/mit-license/).​"
   ]
  },
  {
   "cell_type": "markdown",
   "metadata": {},
   "source": [
    "# About the Authors:  \n",
    "\n",
    " [Joseph Santarcangelo]( https://www.linkedin.com/in/joseph-s-50398b136/) has a PhD in Electrical Engineering, his research focused on using machine learning, signal processing, and computer vision to determine how videos impact human cognition. Joseph has been working for IBM since he completed his PhD.\n",
    "\n"
   ]
  },
  {
   "cell_type": "code",
   "execution_count": null,
   "metadata": {
    "collapsed": true
   },
   "outputs": [],
   "source": []
  }
 ],
 "metadata": {
  "kernelspec": {
   "display_name": "Scala 2.11 with Spark 2.1",
   "language": "scala",
   "name": "scala-spark21"
  },
  "language_info": {
   "codemirror_mode": "text/x-scala",
   "file_extension": ".scala",
   "mimetype": "text/x-scala",
   "name": "scala",
   "pygments_lexer": "scala",
   "version": "2.11.8"
  }
 },
 "nbformat": 4,
 "nbformat_minor": 1
}
