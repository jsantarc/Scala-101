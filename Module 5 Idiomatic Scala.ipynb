{
 "cells": [
  {
   "cell_type": "markdown",
   "metadata": {},
   "source": [
    " <div class=\"alert alert-block alert-info\" style=\"margin-top: 20px\">\n",
    " <a href=\"http://cocl.us/SC0101ENNotebookadd\"><img src = \"https://ibm.box.com/shared/static/kr8cc5o4va552yrgo83j54mishtgzj2n.png\" width = 750, align = \"center\"></a>\n",
    "\n",
    "\n",
    "\n",
    "<h1 align=center><font size = 5>Product Link</font></h1> "
   ]
  },
  {
   "cell_type": "markdown",
   "metadata": {},
   "source": [
    "<a href=\"https://www.bigdatauniversity.com\"><img src = \"https://ibm.box.com/shared/static/ugcqz6ohbvff804xp84y4kqnvvk3bq1g.png\" width = 300, align = \"center\"></a>\n",
    "\n",
    "<h1 align=center><font size = 5>Scala 101</font></h1>"
   ]
  },
  {
   "cell_type": "markdown",
   "metadata": {
    "collapsed": true
   },
   "source": [
    "# Module 5  Idiomatic Scala"
   ]
  },
  {
   "cell_type": "markdown",
   "metadata": {},
   "source": [
    "# Table of content\n",
    "\n",
    "<div class=\"alert alert-block alert-info\" style=\"margin-top: 20px\">\n",
    "<li><a href=\"#ref1\">For Expressions  </a>\n",
    "<li><a href=\"#ref2\">Pattern Matching </a>\n",
    "<li><a href=\"#ref3\"> Handling Options  </a>\n",
    "<li><a href=\"#ref4\"> Handling Failures  </a>\n",
    "<li><a href=\"#ref5\">  Handling Futures  </a>\n",
    "<p></p>\n",
    "Estimated Time Needed: <strong>30 min</strong>\n",
    "</div>\n",
    " "
   ]
  },
  {
   "cell_type": "markdown",
   "metadata": {
    "collapsed": true
   },
   "source": [
    "<a id=\"ref1\"></a>\n",
    "\n",
    "## 5.1 For Expressions "
   ]
  },
  {
   "cell_type": "markdown",
   "metadata": {},
   "source": [
    "### By the end of this lesson, he should be able:\n",
    "\n",
    "<ul>\n",
    "  <li> to understand the relationship between for expressions and higher-order functions </li>\n",
    "  <li>described the usage of for expressions \n",
    "   </li>\n"
   ]
  },
  {
   "cell_type": "markdown",
   "metadata": {},
   "source": [
    "Consider the following range of values "
   ]
  },
  {
   "cell_type": "code",
   "execution_count": 41,
   "metadata": {},
   "outputs": [
    {
     "data": {
      "text/plain": [
       "Range(1, 2, 3)"
      ]
     },
     "execution_count": 41,
     "metadata": {},
     "output_type": "execute_result"
    }
   ],
   "source": [
    "val myNums= 1 to 3\n",
    "myNums"
   ]
  },
  {
   "cell_type": "markdown",
   "metadata": {},
   "source": [
    "\n",
    "\n",
    "The first map converts each element of the sequence starting at one and ending at the corresponding value of i. These values are stored in a vector. The second map multiplies the entire sequence with the first element in the corresponding sequence."
   ]
  },
  {
   "cell_type": "code",
   "execution_count": 42,
   "metadata": {},
   "outputs": [
    {
     "data": {
      "text/plain": [
       "Vector(Vector(1), Vector(2, 4), Vector(3, 6, 9))"
      ]
     },
     "execution_count": 42,
     "metadata": {},
     "output_type": "execute_result"
    }
   ],
   "source": [
    "myNums.map(i=>(1 to i).map(j=>i*j))"
   ]
  },
  {
   "cell_type": "markdown",
   "metadata": {},
   "source": [
    " The process is shown in the following figure; the first table represents the result after applying the first map. The colour represents the different elements in the vector.the second column represents the values after the second map function is applied. "
   ]
  },
  {
   "cell_type": "markdown",
   "metadata": {},
   "source": [
    " <a href=\"https://www.bigdatauniversity.com\"><img src = \"https://ibm.box.com/shared/static/sjktuof3yn842x2e8en8l6jg6guqrtq2.png\" width = 1000, align = \"center\"></a>"
   ]
  },
  {
   "cell_type": "code",
   "execution_count": 4,
   "metadata": {},
   "outputs": [
    {
     "data": {
      "text/plain": [
       "Vector(1, 2, 4, 3, 6, 9)"
      ]
     },
     "execution_count": 4,
     "metadata": {},
     "output_type": "execute_result"
    }
   ],
   "source": [
    "myNums.flatMap( i=>(1 to i).map(j=> i*j) )"
   ]
  },
  {
   "cell_type": "markdown",
   "metadata": {},
   "source": [
    "### For expressions"
   ]
  },
  {
   "cell_type": "markdown",
   "metadata": {},
   "source": [
    " For expressions greatly simplify the syntax again we have my numbers which are values 1 2 3.  We can use the following syntax to implement the above lines of code. The for expression will handle to details "
   ]
  },
  {
   "cell_type": "code",
   "execution_count": 3,
   "metadata": {
    "collapsed": true
   },
   "outputs": [],
   "source": [
    "val myNums= 1 to 3"
   ]
  },
  {
   "cell_type": "code",
   "execution_count": 70,
   "metadata": {},
   "outputs": [
    {
     "data": {
      "text/plain": [
       "Vector(1, 2, 4, 3, 6, 9)"
      ]
     },
     "execution_count": 70,
     "metadata": {},
     "output_type": "execute_result"
    }
   ],
   "source": [
    "for {\n",
    "    \n",
    "    i<-myNums\n",
    "    j<-1 to i\n",
    "    \n",
    "    \n",
    "    \n",
    "} yield i*j"
   ]
  },
  {
   "cell_type": "markdown",
   "metadata": {},
   "source": [
    "The syntax must start with a **for** keyword, must have the generators using the **<-** arrow. The **yield** keyword dictates whether or not a new value is returned."
   ]
  },
  {
   "cell_type": "markdown",
   "metadata": {},
   "source": [
    "For expressions can be used to simplify **map**, **flatMap** **withFilter** and **foreach**. \n",
    "Higher Order Functions have rules, if we map over a list,  we will get a list. The first generator of a for expression follows the same rule. "
   ]
  },
  {
   "cell_type": "markdown",
   "metadata": {},
   "source": [
    "### Filtering "
   ]
  },
  {
   "cell_type": "markdown",
   "metadata": {},
   "source": [
    "We can also have guard conditions to apply filter, for example, we can apply the operations to only odd numbers. If the operation i% 2  equals 1  we know the number is odd, we can place an if statement that will only run the expressions if the statement is true."
   ]
  },
  {
   "cell_type": "code",
   "execution_count": 15,
   "metadata": {
    "collapsed": true
   },
   "outputs": [],
   "source": [
    " val myNums= 1 to 3"
   ]
  },
  {
   "cell_type": "code",
   "execution_count": 16,
   "metadata": {},
   "outputs": [
    {
     "data": {
      "text/plain": [
       "Vector(1, 3, 6, 9)"
      ]
     },
     "execution_count": 16,
     "metadata": {},
     "output_type": "execute_result"
    }
   ],
   "source": [
    "for {\n",
    "    \n",
    "    i<-myNums if i% 2==1\n",
    "    j<-1 to i  \n",
    "    \n",
    "} yield i*j"
   ]
  },
  {
   "cell_type": "markdown",
   "metadata": {},
   "source": [
    " The result is a vector where no calculation has been performed when i was even."
   ]
  },
  {
   "cell_type": "markdown",
   "metadata": {},
   "source": [
    "### Definitions "
   ]
  },
  {
   "cell_type": "code",
   "execution_count": null,
   "metadata": {
    "collapsed": true
   },
   "outputs": [],
   "source": []
  },
  {
   "cell_type": "markdown",
   "metadata": {},
   "source": [
    "### Effectful Usages  "
   ]
  },
  {
   "cell_type": "markdown",
   "metadata": {},
   "source": [
    "If you don't want to yield a value and instead went to apply a function but would like to apply a function that is going to be \"effectful\" we can omit the yield.  The following two statements are equivalent "
   ]
  },
  {
   "cell_type": "code",
   "execution_count": 37,
   "metadata": {},
   "outputs": [
    {
     "name": "stdout",
     "output_type": "stream",
     "text": [
      "1\n",
      "2\n",
      "3\n"
     ]
    }
   ],
   "source": [
    "for (n<- 1 to 3)println(n)"
   ]
  },
  {
   "cell_type": "code",
   "execution_count": 44,
   "metadata": {},
   "outputs": [
    {
     "name": "stdout",
     "output_type": "stream",
     "text": [
      "1\n",
      "2\n",
      "3\n"
     ]
    }
   ],
   "source": [
    "(1 to 3).foreach(n=>println(n))"
   ]
  },
  {
   "cell_type": "markdown",
   "metadata": {},
   "source": [
    " <a id=\"ref2\"></a>\n",
    "\n",
    "## 3.2 Pattern Matching "
   ]
  },
  {
   "cell_type": "markdown",
   "metadata": {},
   "source": [
    "### By the end of this lesson, he should be able:\n",
    "\n",
    "<ul>\n",
    "  <li> escribe how to use pattern matching to handle different values in\n",
    "different ways \n",
    "  <li> outline how case classes in algebraic datatypes helping pattern matching</li> \n",
    "<li>illustrate how to extract value from tuples </li>\n"
   ]
  },
  {
   "cell_type": "markdown",
   "metadata": {},
   "source": [
    " Many languages have the concept of switch case, but pattern matching is much more powerful construct allows you to match on data and make conditional statements based on what is found."
   ]
  },
  {
   "cell_type": "markdown",
   "metadata": {},
   "source": [
    " Here is the simple example of a method that includes a pattern match. The method is called \"customer\" and a value of \"Any\" type can be passed. If the value is a customer, a True boolean is returned.  \n",
    "We look at the \"someValue\" parameter and match on it using the match keyword. If the value \"isCustomer\" is an instance of \"Customer \" the function will return a true otherwise, it will return a false."
   ]
  },
  {
   "cell_type": "code",
   "execution_count": 68,
   "metadata": {
    "collapsed": true
   },
   "outputs": [],
   "source": [
    "def isCustomer(someValue:Any):Boolean={\n",
    "    \n",
    "    someValue match{\n",
    "        \n",
    "        case cust: Customer=>true \n",
    "        \n",
    "        case _ =>false \n",
    "               \n",
    "    }\n",
    "      \n",
    "}"
   ]
  },
  {
   "cell_type": "markdown",
   "metadata": {},
   "source": [
    "We can create an instance of the case class \"Customer\"."
   ]
  },
  {
   "cell_type": "code",
   "execution_count": 69,
   "metadata": {
    "collapsed": true
   },
   "outputs": [],
   "source": [
    "case class Customer(first:String=\"\",last:String=\"\")"
   ]
  },
  {
   "cell_type": "markdown",
   "metadata": {},
   "source": [
    " We can use the function  \"isCustomer\" to verify its an instance of type  \"Customer\", as it is indeed an instance of type \"Customer\" we get a value of true."
   ]
  },
  {
   "cell_type": "code",
   "execution_count": 71,
   "metadata": {},
   "outputs": [
    {
     "data": {
      "text/plain": [
       "true"
      ]
     },
     "execution_count": 71,
     "metadata": {},
     "output_type": "execute_result"
    }
   ],
   "source": [
    "isCustomer(Customer(\"Martin\",\"Odersky\"))"
   ]
  },
  {
   "cell_type": "markdown",
   "metadata": {},
   "source": [
    " If we input the string \"Martin Odersky\" we get a false as it is not an instance of the case class \"Customer\"."
   ]
  },
  {
   "cell_type": "code",
   "execution_count": 73,
   "metadata": {},
   "outputs": [
    {
     "data": {
      "text/plain": [
       "false"
      ]
     },
     "execution_count": 73,
     "metadata": {},
     "output_type": "execute_result"
    }
   ],
   "source": [
    "isCustomer(\"Martin Odersky\")"
   ]
  },
  {
   "cell_type": "markdown",
   "metadata": {},
   "source": [
    "Earlier in our tuple section,  we saw we could\n",
    "extract the values from a tuple; this is actually done through pattern matching. Under the hood and we have the tuple values inside of it and then we asked it to be placed into four different named values pattern matching is actually extracting the values in assigning them to those individual names."
   ]
  },
  {
   "cell_type": "code",
   "execution_count": 77,
   "metadata": {
    "collapsed": true
   },
   "outputs": [],
   "source": [
    "val tuple=(1,\"a\",2,\"b\")"
   ]
  },
  {
   "cell_type": "code",
   "execution_count": 78,
   "metadata": {
    "collapsed": true
   },
   "outputs": [],
   "source": [
    "val (first, second, third, fourth)=tuple"
   ]
  },
  {
   "cell_type": "code",
   "execution_count": 80,
   "metadata": {},
   "outputs": [
    {
     "name": "stdout",
     "output_type": "stream",
     "text": [
      "(first:,1)\n",
      "(second:,a)\n",
      "(third:,2)\n",
      "(fourth:,b)\n"
     ]
    }
   ],
   "source": [
    "println(\"first:\",first )\n",
    "println(\"second:\",second )\n",
    "println(\"third:\",third )\n",
    "println(\"fourth:\",fourth )"
   ]
  },
  {
   "cell_type": "markdown",
   "metadata": {},
   "source": [
    "<a id=\"ref3\"></a>\n",
    "\n",
    "## 3.3 Handling Options "
   ]
  },
  {
   "cell_type": "markdown",
   "metadata": {},
   "source": [
    "### after completing this lesson we should be able to \n",
    "\n",
    "<ul>\n",
    "  <li> describe how to pattern match on an option\n",
    "  <li> \n",
    "\n",
    "outline how to use higher-order functions as an option to avoid no\n",
    "checking </li> \n",
    "<li>illustrate how to use for comprehension to also work with option </li>\n",
    "\n",
    "\n",
    "\n",
    "\n",
    "\n"
   ]
  },
  {
   "cell_type": "markdown",
   "metadata": {},
   "source": [
    " It's very simple to pattern match on options, as there can only be one of two values. This being an algebraic datatype one can only have some value or none. For example, in this case, we created a method called \"getMiddleName\". The method is going to take a value that is an option of string and return a string as a result of the pattern match.  We take the \"value\" that is passed in, then we match on it and if we have some \"value\" that we assigned to a name called \"middleName\" we return that value \"middleName\"  if we have none we return a string \"No middle name\" ."
   ]
  },
  {
   "cell_type": "code",
   "execution_count": 82,
   "metadata": {
    "collapsed": true
   },
   "outputs": [],
   "source": [
    "def getMiddleName(value:Option[String]):String={\n",
    "    \n",
    "    value match{\n",
    "        \n",
    "        case Some(middleName)=>middleName\n",
    "        case None=>\"No middle name\"\n",
    "        \n",
    "        \n",
    "    }\n",
    "    \n",
    "    \n",
    "}"
   ]
  },
  {
   "cell_type": "markdown",
   "metadata": {},
   "source": [
    " We can create a case class with a field \"middle\" name ."
   ]
  },
  {
   "cell_type": "code",
   "execution_count": 97,
   "metadata": {
    "collapsed": true
   },
   "outputs": [],
   "source": [
    "case class Customer(first:String=\"\", middle:Option[String]=None, last:String=\"\")"
   ]
  },
  {
   "cell_type": "markdown",
   "metadata": {},
   "source": [
    "If we create an instance with no value for \"middle\"  and use it as an input to the function \"getMiddleName\" we get \"No middle name\"."
   ]
  },
  {
   "cell_type": "code",
   "execution_count": 102,
   "metadata": {
    "collapsed": true
   },
   "outputs": [],
   "source": [
    "val Joe= Customer(\"Joe\", last=\"Joy Joe Joe\")"
   ]
  },
  {
   "cell_type": "code",
   "execution_count": 103,
   "metadata": {},
   "outputs": [
    {
     "data": {
      "text/plain": [
       "No middle name"
      ]
     },
     "execution_count": 103,
     "metadata": {},
     "output_type": "execute_result"
    }
   ],
   "source": [
    "getMiddleName(Joe.middle)"
   ]
  },
  {
   "cell_type": "markdown",
   "metadata": {},
   "source": [
    " If we create an instance with a middle name we get the value of \"middle\"."
   ]
  },
  {
   "cell_type": "code",
   "execution_count": 105,
   "metadata": {},
   "outputs": [
    {
     "data": {
      "text/plain": [
       "D"
      ]
     },
     "execution_count": 105,
     "metadata": {},
     "output_type": "execute_result"
    }
   ],
   "source": [
    "val jane= Customer(\"jane\",Option(\"D\"), last=\"Do\")\n",
    "getMiddleName(jane.middle)"
   ]
  },
  {
   "cell_type": "markdown",
   "metadata": {},
   "source": [
    "### Higher order functions with option "
   ]
  },
  {
   "cell_type": "code",
   "execution_count": 123,
   "metadata": {
    "collapsed": true
   },
   "outputs": [],
   "source": [
    "val martin=Option(\"Martin\")"
   ]
  },
  {
   "cell_type": "markdown",
   "metadata": {},
   "source": [
    " We can print out the value  and prepend \"Yay, \" using the map function; this will only work if there is a value other then \"None\" in \"Martin\".  In general, it's not good to map over a value that you are not going to use later. "
   ]
  },
  {
   "cell_type": "code",
   "execution_count": 124,
   "metadata": {},
   "outputs": [
    {
     "name": "stdout",
     "output_type": "stream",
     "text": [
      "Yay,Martin\n"
     ]
    },
    {
     "data": {
      "text/plain": [
       "Some(())"
      ]
     },
     "execution_count": 124,
     "metadata": {},
     "output_type": "execute_result"
    }
   ],
   "source": [
    "martin.map(name=>println(\"Yay,\"+name))"
   ]
  },
  {
   "cell_type": "markdown",
   "metadata": {},
   "source": [
    " A much better choice is using the \"foreach\" as it does not return a value "
   ]
  },
  {
   "cell_type": "code",
   "execution_count": 125,
   "metadata": {},
   "outputs": [
    {
     "name": "stdout",
     "output_type": "stream",
     "text": [
      "Yay,Martin\n"
     ]
    }
   ],
   "source": [
    "martin.foreach(name=>println(\"Yay,\"+name))"
   ]
  },
  {
   "cell_type": "markdown",
   "metadata": {},
   "source": [
    "if we apply a \"foreach \" to a None nothing happens "
   ]
  },
  {
   "cell_type": "code",
   "execution_count": 126,
   "metadata": {
    "collapsed": true
   },
   "outputs": [],
   "source": [
    "None.foreach(name=>println(\"Yay,\"+name))"
   ]
  },
  {
   "cell_type": "markdown",
   "metadata": {},
   "source": [
    " We can use for expressions with options as well if we create an instance of an option of a string Martin and we give it the name  Martin and we create an instance of another option with the string Jane. We can use them as generators inside of the for expressions.  j and m receive the value of the string, the for expression then yields the option of a string as shown below.\n"
   ]
  },
  {
   "cell_type": "code",
   "execution_count": 133,
   "metadata": {
    "collapsed": true
   },
   "outputs": [],
   "source": [
    "val martin=Option(\"Martin\")\n",
    "val jane=Option(\"Jane\")"
   ]
  },
  {
   "cell_type": "code",
   "execution_count": 134,
   "metadata": {},
   "outputs": [
    {
     "data": {
      "text/plain": [
       "Some(Martin is friends with Jane)"
      ]
     },
     "execution_count": 134,
     "metadata": {},
     "output_type": "execute_result"
    }
   ],
   "source": [
    "for{\n",
    "    \n",
    "    m<-martin\n",
    "    j<-jane\n",
    "    \n",
    "} yield(m+\" is friends with \"+j)"
   ]
  },
  {
   "cell_type": "markdown",
   "metadata": {},
   "source": [
    " If we have a None in any of the options, we are working on the for expression will return a None."
   ]
  },
  {
   "cell_type": "code",
   "execution_count": 137,
   "metadata": {
    "collapsed": true
   },
   "outputs": [],
   "source": [
    "val noValue=None"
   ]
  },
  {
   "cell_type": "code",
   "execution_count": 138,
   "metadata": {},
   "outputs": [
    {
     "data": {
      "text/plain": [
       "None"
      ]
     },
     "execution_count": 138,
     "metadata": {},
     "output_type": "execute_result"
    }
   ],
   "source": [
    "for{\n",
    "    \n",
    "    m<-martin\n",
    "    j<-noValue\n",
    "    \n",
    "} yield(m+\" is friends with \"+j)"
   ]
  },
  {
   "cell_type": "markdown",
   "metadata": {},
   "source": [
    " <a id=\"ref4\"></a>\n",
    "\n",
    "## 3.4 Handling Failures"
   ]
  },
  {
   "cell_type": "markdown",
   "metadata": {},
   "source": [
    "\n",
    "\n",
    " <a id=\"ref5\"></a>\n",
    "\n",
    "## 3.5  Handling Futures \n"
   ]
  },
  {
   "cell_type": "markdown",
   "metadata": {},
   "source": [
    "## About the Authors:  \n",
    "\n",
    "\n",
    " [Joseph Santarcangelo]( https://www.linkedin.com/in/joseph-s-50398b136/) has a PhD in Electrical Engineering, his research focused on using machine learning, signal processing, and computer vision to determine how videos impact human cognition. Joseph has been working for IBM since he completed his PhD.\n"
   ]
  },
  {
   "cell_type": "code",
   "execution_count": null,
   "metadata": {
    "collapsed": true
   },
   "outputs": [],
   "source": []
  }
 ],
 "metadata": {
  "kernelspec": {
   "display_name": "Scala 2.11 with Spark 2.1",
   "language": "scala",
   "name": "scala-spark21"
  },
  "language_info": {
   "codemirror_mode": "text/x-scala",
   "file_extension": ".scala",
   "mimetype": "text/x-scala",
   "name": "scala",
   "pygments_lexer": "scala",
   "version": "2.11.8"
  }
 },
 "nbformat": 4,
 "nbformat_minor": 1
}
